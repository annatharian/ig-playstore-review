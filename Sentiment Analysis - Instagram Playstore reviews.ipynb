{
 "cells": [
  {
   "cell_type": "code",
   "execution_count": 13,
   "id": "c77ae0eb",
   "metadata": {},
   "outputs": [],
   "source": [
    "import numpy as np\n",
    "import pandas as pd \n",
    "import re\n",
    "import matplotlib.pyplot as plt\n",
    "import seaborn as sns\n",
    "import warnings\n",
    "from nltk.sentiment.vader import SentimentIntensityAnalyzer"
   ]
  },
  {
   "cell_type": "code",
   "execution_count": 2,
   "id": "b57e23b1",
   "metadata": {},
   "outputs": [],
   "source": [
    "warnings.filterwarnings('ignore')"
   ]
  },
  {
   "cell_type": "code",
   "execution_count": 3,
   "id": "282323cf",
   "metadata": {},
   "outputs": [
    {
     "data": {
      "text/html": [
       "<div>\n",
       "<style scoped>\n",
       "    .dataframe tbody tr th:only-of-type {\n",
       "        vertical-align: middle;\n",
       "    }\n",
       "\n",
       "    .dataframe tbody tr th {\n",
       "        vertical-align: top;\n",
       "    }\n",
       "\n",
       "    .dataframe thead th {\n",
       "        text-align: right;\n",
       "    }\n",
       "</style>\n",
       "<table border=\"1\" class=\"dataframe\">\n",
       "  <thead>\n",
       "    <tr style=\"text-align: right;\">\n",
       "      <th></th>\n",
       "      <th>review_description</th>\n",
       "      <th>rating</th>\n",
       "      <th>review_date</th>\n",
       "    </tr>\n",
       "  </thead>\n",
       "  <tbody>\n",
       "    <tr>\n",
       "      <th>0</th>\n",
       "      <td>The app is good for connecting with friends, f...</td>\n",
       "      <td>3</td>\n",
       "      <td>2023-07-11 23:57:07</td>\n",
       "    </tr>\n",
       "    <tr>\n",
       "      <th>1</th>\n",
       "      <td>Used to be my favorite social media app, but \"...</td>\n",
       "      <td>2</td>\n",
       "      <td>2023-07-22 21:37:09</td>\n",
       "    </tr>\n",
       "    <tr>\n",
       "      <th>2</th>\n",
       "      <td>Instagram is the best of all the social media....</td>\n",
       "      <td>5</td>\n",
       "      <td>2023-07-25 03:24:58</td>\n",
       "    </tr>\n",
       "    <tr>\n",
       "      <th>3</th>\n",
       "      <td>I love this app.. but as of late, I have been ...</td>\n",
       "      <td>2</td>\n",
       "      <td>2023-07-09 04:49:57</td>\n",
       "    </tr>\n",
       "    <tr>\n",
       "      <th>4</th>\n",
       "      <td>Used to be a great app but there are so many m...</td>\n",
       "      <td>3</td>\n",
       "      <td>2023-07-17 16:47:04</td>\n",
       "    </tr>\n",
       "  </tbody>\n",
       "</table>\n",
       "</div>"
      ],
      "text/plain": [
       "                                  review_description  rating  \\\n",
       "0  The app is good for connecting with friends, f...       3   \n",
       "1  Used to be my favorite social media app, but \"...       2   \n",
       "2  Instagram is the best of all the social media....       5   \n",
       "3  I love this app.. but as of late, I have been ...       2   \n",
       "4  Used to be a great app but there are so many m...       3   \n",
       "\n",
       "           review_date  \n",
       "0  2023-07-11 23:57:07  \n",
       "1  2023-07-22 21:37:09  \n",
       "2  2023-07-25 03:24:58  \n",
       "3  2023-07-09 04:49:57  \n",
       "4  2023-07-17 16:47:04  "
      ]
     },
     "execution_count": 3,
     "metadata": {},
     "output_type": "execute_result"
    }
   ],
   "source": [
    "df = pd.read_csv('instagram.csv')\n",
    "df = df.head(50000)\n",
    "df.head()"
   ]
  },
  {
   "cell_type": "code",
   "execution_count": 4,
   "id": "5aaa4e15",
   "metadata": {},
   "outputs": [
    {
     "name": "stdout",
     "output_type": "stream",
     "text": [
      "There are 50000 and 3 columns in dataset\n"
     ]
    }
   ],
   "source": [
    "rows, cols = df.shape\n",
    "print(f\"There are {rows} and {cols} columns in dataset\")"
   ]
  },
  {
   "cell_type": "code",
   "execution_count": 5,
   "id": "7e7f4f2d",
   "metadata": {},
   "outputs": [
    {
     "name": "stdout",
     "output_type": "stream",
     "text": [
      "<class 'pandas.core.frame.DataFrame'>\n",
      "RangeIndex: 50000 entries, 0 to 49999\n",
      "Data columns (total 3 columns):\n",
      " #   Column              Non-Null Count  Dtype \n",
      "---  ------              --------------  ----- \n",
      " 0   review_description  50000 non-null  object\n",
      " 1   rating              50000 non-null  int64 \n",
      " 2   review_date         50000 non-null  object\n",
      "dtypes: int64(1), object(2)\n",
      "memory usage: 1.1+ MB\n"
     ]
    }
   ],
   "source": [
    "df.info()"
   ]
  },
  {
   "cell_type": "code",
   "execution_count": 6,
   "id": "f746ecf2",
   "metadata": {},
   "outputs": [
    {
     "data": {
      "text/html": [
       "<div>\n",
       "<style scoped>\n",
       "    .dataframe tbody tr th:only-of-type {\n",
       "        vertical-align: middle;\n",
       "    }\n",
       "\n",
       "    .dataframe tbody tr th {\n",
       "        vertical-align: top;\n",
       "    }\n",
       "\n",
       "    .dataframe thead th {\n",
       "        text-align: right;\n",
       "    }\n",
       "</style>\n",
       "<table border=\"1\" class=\"dataframe\">\n",
       "  <thead>\n",
       "    <tr style=\"text-align: right;\">\n",
       "      <th></th>\n",
       "      <th>rating</th>\n",
       "    </tr>\n",
       "  </thead>\n",
       "  <tbody>\n",
       "    <tr>\n",
       "      <th>count</th>\n",
       "      <td>50000.000000</td>\n",
       "    </tr>\n",
       "    <tr>\n",
       "      <th>mean</th>\n",
       "      <td>2.234680</td>\n",
       "    </tr>\n",
       "    <tr>\n",
       "      <th>std</th>\n",
       "      <td>1.474845</td>\n",
       "    </tr>\n",
       "    <tr>\n",
       "      <th>min</th>\n",
       "      <td>1.000000</td>\n",
       "    </tr>\n",
       "    <tr>\n",
       "      <th>25%</th>\n",
       "      <td>1.000000</td>\n",
       "    </tr>\n",
       "    <tr>\n",
       "      <th>50%</th>\n",
       "      <td>2.000000</td>\n",
       "    </tr>\n",
       "    <tr>\n",
       "      <th>75%</th>\n",
       "      <td>3.000000</td>\n",
       "    </tr>\n",
       "    <tr>\n",
       "      <th>max</th>\n",
       "      <td>5.000000</td>\n",
       "    </tr>\n",
       "  </tbody>\n",
       "</table>\n",
       "</div>"
      ],
      "text/plain": [
       "             rating\n",
       "count  50000.000000\n",
       "mean       2.234680\n",
       "std        1.474845\n",
       "min        1.000000\n",
       "25%        1.000000\n",
       "50%        2.000000\n",
       "75%        3.000000\n",
       "max        5.000000"
      ]
     },
     "execution_count": 6,
     "metadata": {},
     "output_type": "execute_result"
    }
   ],
   "source": [
    "df.describe()"
   ]
  },
  {
   "cell_type": "code",
   "execution_count": 7,
   "id": "c7e5c612",
   "metadata": {},
   "outputs": [
    {
     "name": "stdout",
     "output_type": "stream",
     "text": [
      "There are 0 duplicate values\n"
     ]
    }
   ],
   "source": [
    "print(f\"There are {df.duplicated().sum()} duplicate values\")\n",
    "df = df.drop_duplicates()"
   ]
  },
  {
   "cell_type": "code",
   "execution_count": 8,
   "id": "052113a9",
   "metadata": {},
   "outputs": [
    {
     "data": {
      "text/plain": [
       "\"The app is good for connecting with friends, family and even potential business partners. However as of recently I've experienced some problems with the messages portion of the app (ex: themes aren't showing up on my end but are present on other person's end). Idk if it has to do with a bug but it happened all of sudden out of nowhere on both of my pages (one private the other public). But besides the occasional bugs and sometimes the app/website being down randomly, I say it's a decent app.\""
      ]
     },
     "execution_count": 8,
     "metadata": {},
     "output_type": "execute_result"
    }
   ],
   "source": [
    "df['review_description'][0]"
   ]
  },
  {
   "cell_type": "code",
   "execution_count": 9,
   "id": "6f2779ab",
   "metadata": {},
   "outputs": [],
   "source": [
    "for i in range(len(df['review_description'])):\n",
    "     df['review_description'][i]= re.sub(r\"(@\\[A-Za-z0-9]+)|([^0-9A-Za-z \\t])|(\\w+:\\/\\/\\S+)|^rt|http.+?\", \"\",df['review_description'][i])"
   ]
  },
  {
   "cell_type": "code",
   "execution_count": 10,
   "id": "d1e83618",
   "metadata": {},
   "outputs": [
    {
     "data": {
      "text/plain": [
       "review_description    0\n",
       "rating                0\n",
       "review_date           0\n",
       "dtype: int64"
      ]
     },
     "execution_count": 10,
     "metadata": {},
     "output_type": "execute_result"
    }
   ],
   "source": [
    "df.isna().sum()"
   ]
  },
  {
   "cell_type": "code",
   "execution_count": 14,
   "id": "57ff05bc",
   "metadata": {},
   "outputs": [],
   "source": [
    "analyzer = SentimentIntensityAnalyzer()\n",
    "df['review_description'] = df['review_description'].astype(str)\n",
    "df['polarity_score'] = df['review_description'].apply(lambda review: analyzer.polarity_scores(review)['compound'])"
   ]
  },
  {
   "cell_type": "code",
   "execution_count": 15,
   "id": "d7efadec",
   "metadata": {},
   "outputs": [
    {
     "data": {
      "text/html": [
       "<div>\n",
       "<style scoped>\n",
       "    .dataframe tbody tr th:only-of-type {\n",
       "        vertical-align: middle;\n",
       "    }\n",
       "\n",
       "    .dataframe tbody tr th {\n",
       "        vertical-align: top;\n",
       "    }\n",
       "\n",
       "    .dataframe thead th {\n",
       "        text-align: right;\n",
       "    }\n",
       "</style>\n",
       "<table border=\"1\" class=\"dataframe\">\n",
       "  <thead>\n",
       "    <tr style=\"text-align: right;\">\n",
       "      <th></th>\n",
       "      <th>review_description</th>\n",
       "      <th>rating</th>\n",
       "      <th>review_date</th>\n",
       "      <th>polarity_score</th>\n",
       "    </tr>\n",
       "  </thead>\n",
       "  <tbody>\n",
       "    <tr>\n",
       "      <th>0</th>\n",
       "      <td>The app is good for connecting with friends fa...</td>\n",
       "      <td>3</td>\n",
       "      <td>2023-07-11 23:57:07</td>\n",
       "      <td>0.1406</td>\n",
       "    </tr>\n",
       "    <tr>\n",
       "      <th>1</th>\n",
       "      <td>Used to be my favorite social media app but im...</td>\n",
       "      <td>2</td>\n",
       "      <td>2023-07-22 21:37:09</td>\n",
       "      <td>-0.6352</td>\n",
       "    </tr>\n",
       "    <tr>\n",
       "      <th>2</th>\n",
       "      <td>Instagram is the best of all the social media ...</td>\n",
       "      <td>5</td>\n",
       "      <td>2023-07-25 03:24:58</td>\n",
       "      <td>0.9584</td>\n",
       "    </tr>\n",
       "    <tr>\n",
       "      <th>3</th>\n",
       "      <td>I love this app but as of late I have been hav...</td>\n",
       "      <td>2</td>\n",
       "      <td>2023-07-09 04:49:57</td>\n",
       "      <td>-0.4201</td>\n",
       "    </tr>\n",
       "    <tr>\n",
       "      <th>4</th>\n",
       "      <td>Used to be a great app but there are so many m...</td>\n",
       "      <td>3</td>\n",
       "      <td>2023-07-17 16:47:04</td>\n",
       "      <td>-0.1276</td>\n",
       "    </tr>\n",
       "    <tr>\n",
       "      <th>...</th>\n",
       "      <td>...</td>\n",
       "      <td>...</td>\n",
       "      <td>...</td>\n",
       "      <td>...</td>\n",
       "    </tr>\n",
       "    <tr>\n",
       "      <th>49995</th>\n",
       "      <td>App is getting crash every time I watch insta ...</td>\n",
       "      <td>1</td>\n",
       "      <td>2023-06-22 07:04:01</td>\n",
       "      <td>-0.4019</td>\n",
       "    </tr>\n",
       "    <tr>\n",
       "      <th>49996</th>\n",
       "      <td>The lastest update wont let me see ANY picture...</td>\n",
       "      <td>1</td>\n",
       "      <td>2019-10-25 03:05:16</td>\n",
       "      <td>0.3974</td>\n",
       "    </tr>\n",
       "    <tr>\n",
       "      <th>49997</th>\n",
       "      <td>Really like instagram But recently the app has...</td>\n",
       "      <td>1</td>\n",
       "      <td>2019-11-14 05:39:21</td>\n",
       "      <td>0.7984</td>\n",
       "    </tr>\n",
       "    <tr>\n",
       "      <th>49998</th>\n",
       "      <td>I dont know why but a few days ago it just com...</td>\n",
       "      <td>3</td>\n",
       "      <td>2022-06-29 18:06:12</td>\n",
       "      <td>-0.6885</td>\n",
       "    </tr>\n",
       "    <tr>\n",
       "      <th>49999</th>\n",
       "      <td>App has been shutting me out of one of my acco...</td>\n",
       "      <td>1</td>\n",
       "      <td>2022-08-13 19:06:43</td>\n",
       "      <td>-0.7841</td>\n",
       "    </tr>\n",
       "  </tbody>\n",
       "</table>\n",
       "<p>50000 rows × 4 columns</p>\n",
       "</div>"
      ],
      "text/plain": [
       "                                      review_description  rating  \\\n",
       "0      The app is good for connecting with friends fa...       3   \n",
       "1      Used to be my favorite social media app but im...       2   \n",
       "2      Instagram is the best of all the social media ...       5   \n",
       "3      I love this app but as of late I have been hav...       2   \n",
       "4      Used to be a great app but there are so many m...       3   \n",
       "...                                                  ...     ...   \n",
       "49995  App is getting crash every time I watch insta ...       1   \n",
       "49996  The lastest update wont let me see ANY picture...       1   \n",
       "49997  Really like instagram But recently the app has...       1   \n",
       "49998  I dont know why but a few days ago it just com...       3   \n",
       "49999  App has been shutting me out of one of my acco...       1   \n",
       "\n",
       "               review_date  polarity_score  \n",
       "0      2023-07-11 23:57:07          0.1406  \n",
       "1      2023-07-22 21:37:09         -0.6352  \n",
       "2      2023-07-25 03:24:58          0.9584  \n",
       "3      2023-07-09 04:49:57         -0.4201  \n",
       "4      2023-07-17 16:47:04         -0.1276  \n",
       "...                    ...             ...  \n",
       "49995  2023-06-22 07:04:01         -0.4019  \n",
       "49996  2019-10-25 03:05:16          0.3974  \n",
       "49997  2019-11-14 05:39:21          0.7984  \n",
       "49998  2022-06-29 18:06:12         -0.6885  \n",
       "49999  2022-08-13 19:06:43         -0.7841  \n",
       "\n",
       "[50000 rows x 4 columns]"
      ]
     },
     "execution_count": 15,
     "metadata": {},
     "output_type": "execute_result"
    }
   ],
   "source": [
    "df"
   ]
  },
  {
   "cell_type": "code",
   "execution_count": 19,
   "id": "2ef03f7c",
   "metadata": {},
   "outputs": [],
   "source": [
    "for index, row in df.iterrows():\n",
    "    if(row['polarity_score']>=0.5):\n",
    "        df.loc[index, 'analysis'] = \"Positive\"\n",
    "    elif(row['polarity_score']<=0.5):\n",
    "        df.loc[index, 'analysis'] = \"Negative\"\n",
    "    else:\n",
    "        df.loc[index, 'analysis'] = \"Neutral\"\n",
    " "
   ]
  },
  {
   "cell_type": "code",
   "execution_count": 20,
   "id": "d373cdab",
   "metadata": {},
   "outputs": [
    {
     "data": {
      "text/html": [
       "<div>\n",
       "<style scoped>\n",
       "    .dataframe tbody tr th:only-of-type {\n",
       "        vertical-align: middle;\n",
       "    }\n",
       "\n",
       "    .dataframe tbody tr th {\n",
       "        vertical-align: top;\n",
       "    }\n",
       "\n",
       "    .dataframe thead th {\n",
       "        text-align: right;\n",
       "    }\n",
       "</style>\n",
       "<table border=\"1\" class=\"dataframe\">\n",
       "  <thead>\n",
       "    <tr style=\"text-align: right;\">\n",
       "      <th></th>\n",
       "      <th>review_description</th>\n",
       "      <th>rating</th>\n",
       "      <th>review_date</th>\n",
       "      <th>polarity_score</th>\n",
       "      <th>analysis</th>\n",
       "    </tr>\n",
       "  </thead>\n",
       "  <tbody>\n",
       "    <tr>\n",
       "      <th>0</th>\n",
       "      <td>The app is good for connecting with friends fa...</td>\n",
       "      <td>3</td>\n",
       "      <td>2023-07-11 23:57:07</td>\n",
       "      <td>0.1406</td>\n",
       "      <td>Negative</td>\n",
       "    </tr>\n",
       "    <tr>\n",
       "      <th>1</th>\n",
       "      <td>Used to be my favorite social media app but im...</td>\n",
       "      <td>2</td>\n",
       "      <td>2023-07-22 21:37:09</td>\n",
       "      <td>-0.6352</td>\n",
       "      <td>Negative</td>\n",
       "    </tr>\n",
       "    <tr>\n",
       "      <th>2</th>\n",
       "      <td>Instagram is the best of all the social media ...</td>\n",
       "      <td>5</td>\n",
       "      <td>2023-07-25 03:24:58</td>\n",
       "      <td>0.9584</td>\n",
       "      <td>Positive</td>\n",
       "    </tr>\n",
       "    <tr>\n",
       "      <th>3</th>\n",
       "      <td>I love this app but as of late I have been hav...</td>\n",
       "      <td>2</td>\n",
       "      <td>2023-07-09 04:49:57</td>\n",
       "      <td>-0.4201</td>\n",
       "      <td>Negative</td>\n",
       "    </tr>\n",
       "    <tr>\n",
       "      <th>4</th>\n",
       "      <td>Used to be a great app but there are so many m...</td>\n",
       "      <td>3</td>\n",
       "      <td>2023-07-17 16:47:04</td>\n",
       "      <td>-0.1276</td>\n",
       "      <td>Negative</td>\n",
       "    </tr>\n",
       "    <tr>\n",
       "      <th>...</th>\n",
       "      <td>...</td>\n",
       "      <td>...</td>\n",
       "      <td>...</td>\n",
       "      <td>...</td>\n",
       "      <td>...</td>\n",
       "    </tr>\n",
       "    <tr>\n",
       "      <th>49995</th>\n",
       "      <td>App is getting crash every time I watch insta ...</td>\n",
       "      <td>1</td>\n",
       "      <td>2023-06-22 07:04:01</td>\n",
       "      <td>-0.4019</td>\n",
       "      <td>Negative</td>\n",
       "    </tr>\n",
       "    <tr>\n",
       "      <th>49996</th>\n",
       "      <td>The lastest update wont let me see ANY picture...</td>\n",
       "      <td>1</td>\n",
       "      <td>2019-10-25 03:05:16</td>\n",
       "      <td>0.3974</td>\n",
       "      <td>Negative</td>\n",
       "    </tr>\n",
       "    <tr>\n",
       "      <th>49997</th>\n",
       "      <td>Really like instagram But recently the app has...</td>\n",
       "      <td>1</td>\n",
       "      <td>2019-11-14 05:39:21</td>\n",
       "      <td>0.7984</td>\n",
       "      <td>Positive</td>\n",
       "    </tr>\n",
       "    <tr>\n",
       "      <th>49998</th>\n",
       "      <td>I dont know why but a few days ago it just com...</td>\n",
       "      <td>3</td>\n",
       "      <td>2022-06-29 18:06:12</td>\n",
       "      <td>-0.6885</td>\n",
       "      <td>Negative</td>\n",
       "    </tr>\n",
       "    <tr>\n",
       "      <th>49999</th>\n",
       "      <td>App has been shutting me out of one of my acco...</td>\n",
       "      <td>1</td>\n",
       "      <td>2022-08-13 19:06:43</td>\n",
       "      <td>-0.7841</td>\n",
       "      <td>Negative</td>\n",
       "    </tr>\n",
       "  </tbody>\n",
       "</table>\n",
       "<p>50000 rows × 5 columns</p>\n",
       "</div>"
      ],
      "text/plain": [
       "                                      review_description  rating  \\\n",
       "0      The app is good for connecting with friends fa...       3   \n",
       "1      Used to be my favorite social media app but im...       2   \n",
       "2      Instagram is the best of all the social media ...       5   \n",
       "3      I love this app but as of late I have been hav...       2   \n",
       "4      Used to be a great app but there are so many m...       3   \n",
       "...                                                  ...     ...   \n",
       "49995  App is getting crash every time I watch insta ...       1   \n",
       "49996  The lastest update wont let me see ANY picture...       1   \n",
       "49997  Really like instagram But recently the app has...       1   \n",
       "49998  I dont know why but a few days ago it just com...       3   \n",
       "49999  App has been shutting me out of one of my acco...       1   \n",
       "\n",
       "               review_date  polarity_score  analysis  \n",
       "0      2023-07-11 23:57:07          0.1406  Negative  \n",
       "1      2023-07-22 21:37:09         -0.6352  Negative  \n",
       "2      2023-07-25 03:24:58          0.9584  Positive  \n",
       "3      2023-07-09 04:49:57         -0.4201  Negative  \n",
       "4      2023-07-17 16:47:04         -0.1276  Negative  \n",
       "...                    ...             ...       ...  \n",
       "49995  2023-06-22 07:04:01         -0.4019  Negative  \n",
       "49996  2019-10-25 03:05:16          0.3974  Negative  \n",
       "49997  2019-11-14 05:39:21          0.7984  Positive  \n",
       "49998  2022-06-29 18:06:12         -0.6885  Negative  \n",
       "49999  2022-08-13 19:06:43         -0.7841  Negative  \n",
       "\n",
       "[50000 rows x 5 columns]"
      ]
     },
     "execution_count": 20,
     "metadata": {},
     "output_type": "execute_result"
    }
   ],
   "source": [
    "df"
   ]
  },
  {
   "cell_type": "code",
   "execution_count": 21,
   "id": "79ccbb0b",
   "metadata": {},
   "outputs": [
    {
     "data": {
      "text/plain": [
       "<BarContainer object of 50000 artists>"
      ]
     },
     "execution_count": 21,
     "metadata": {},
     "output_type": "execute_result"
    },
    {
     "data": {
      "image/png": "[encoded data removed]",
      "text/plain": [
       "<Figure size 432x288 with 1 Axes>"
      ]
     },
     "metadata": {
      "needs_background": "light"
     },
     "output_type": "display_data"
    }
   ],
   "source": [
    "# Plotting a barplot to check relation between analysis and rating.\n",
    "plt.bar(df['analysis'],df['rating'],color ='r')"
   ]
  },
  {
   "cell_type": "code",
   "execution_count": 22,
   "id": "5dc4ca95",
   "metadata": {},
   "outputs": [],
   "source": [
    "def rating(x):\n",
    "    if x>=8 and x<=10:\n",
    "        return 'Positive'\n",
    "    elif x>=4 and x<=7:\n",
    "         return 'Neutral'\n",
    "    else:\n",
    "         return 'Negative'"
   ]
  },
  {
   "cell_type": "code",
   "execution_count": 23,
   "id": "120f6b02",
   "metadata": {},
   "outputs": [],
   "source": [
    "df['rating_analysis']=df['rating'].apply(rating)"
   ]
  },
  {
   "cell_type": "code",
   "execution_count": 24,
   "id": "4859ec8b",
   "metadata": {},
   "outputs": [],
   "source": [
    "df['final_rating'] = 'Positive'"
   ]
  },
  {
   "cell_type": "code",
   "execution_count": 25,
   "id": "69164062",
   "metadata": {},
   "outputs": [],
   "source": [
    "for i in range(len(df)):\n",
    "    if (df['analysis'][i]=='Positive' and df['rating_analysis'][i] == 'Positive'):\n",
    "        df['final_rating'][i] = 'Positive'\n",
    "        \n",
    "    elif (df['analysis'][i] == 'Positive' and df['rating_analysis'][i] == 'Neutral')or (df['analysis'][i] == 'Neutral' and df['rating_analysis'][i] == 'Positive'):\n",
    "        df['final_rating'][i] = 'Positive'\n",
    "        \n",
    "    elif (df['analysis'][i] == 'Negative' and df['rating_analysis'][i] == 'Neutral')or (df['analysis'][i] == 'Neutral' and df['rating_analysis'][i] == 'Negative'):\n",
    "        df['final_rating'][i] = 'Neutral'\n",
    "        \n",
    "    elif (df['analysis'][i] == 'Neutral' and df['rating_analysis'][i] == 'Neutral'):\n",
    "        df['final_rating'][i] = 'Neutral'\n",
    "   \n",
    "    elif (df['analysis'][i] == 'Negative' and df['rating_analysis'][i] == 'Negative'):\n",
    "        df['final_rating'][i] = 'Negative'\n",
    "        \n",
    "    else:\n",
    "        df['final_rating'][i] = 'Neutral'"
   ]
  },
  {
   "cell_type": "code",
   "execution_count": null,
   "id": "3c245f19",
   "metadata": {},
   "outputs": [],
   "source": [
    "sns.countplot(x='final_rating',data =df)"
   ]
  },
  {
   "cell_type": "code",
   "execution_count": null,
   "id": "21dbf493",
   "metadata": {},
   "outputs": [],
   "source": []
  },
  {
   "cell_type": "code",
   "execution_count": null,
   "id": "ac2cd67b",
   "metadata": {},
   "outputs": [],
   "source": []
  },
  {
   "cell_type": "code",
   "execution_count": null,
   "id": "fc3b7104",
   "metadata": {},
   "outputs": [],
   "source": []
  }
 ],
 "metadata": {
  "kernelspec": {
   "display_name": "Python 3 (ipykernel)",
   "language": "python",
   "name": "python3"
  },
  "language_info": {
   "codemirror_mode": {
    "name": "ipython",
    "version": 3
   },
   "file_extension": ".py",
   "mimetype": "text/x-python",
   "name": "python",
   "nbconvert_exporter": "python",
   "pygments_lexer": "ipython3",
   "version": "3.9.12"
  }
 },
 "nbformat": 4,
 "nbformat_minor": 5
}
